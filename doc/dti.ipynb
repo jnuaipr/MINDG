{
 "cells": [
  {
   "cell_type": "code",
   "execution_count": 1,
   "metadata": {},
   "outputs": [],
   "source": [
    "import pandas as pd\n",
    "from tdc.single_pred import *\n",
    "from tdc.multi_pred import *"
   ]
  },
  {
   "cell_type": "code",
   "execution_count": 3,
   "metadata": {},
   "outputs": [
    {
     "name": "stderr",
     "output_type": "stream",
     "text": [
      "Found local copy...\n",
      "Loading...\n",
      "Done!\n"
     ]
    },
    {
     "name": "stdout",
     "output_type": "stream",
     "text": [
      "              Drug_ID                                               Drug  \\\n",
      "0       CHEMBL1087421            COc1cc2c(cc1Cl)C(c1ccc(Cl)c(Cl)c1)=NCC2   \n",
      "1       CHEMBL1087421            COc1cc2c(cc1Cl)C(c1ccc(Cl)c(Cl)c1)=NCC2   \n",
      "2       CHEMBL1087421            COc1cc2c(cc1Cl)C(c1ccc(Cl)c(Cl)c1)=NCC2   \n",
      "3       CHEMBL1087421            COc1cc2c(cc1Cl)C(c1ccc(Cl)c(Cl)c1)=NCC2   \n",
      "4       CHEMBL1087421            COc1cc2c(cc1Cl)C(c1ccc(Cl)c(Cl)c1)=NCC2   \n",
      "...               ...                                                ...   \n",
      "117652   CHEMBL230654  CCCc1nc[nH]c1CNc1cc(Cl)c2ncc(C#N)c(Nc3ccc(F)c(...   \n",
      "117653   CHEMBL230654  CCCc1nc[nH]c1CNc1cc(Cl)c2ncc(C#N)c(Nc3ccc(F)c(...   \n",
      "117654   CHEMBL230654  CCCc1nc[nH]c1CNc1cc(Cl)c2ncc(C#N)c(Nc3ccc(F)c(...   \n",
      "117655   CHEMBL230654  CCCc1nc[nH]c1CNc1cc(Cl)c2ncc(C#N)c(Nc3ccc(F)c(...   \n",
      "117656   CHEMBL230654  CCCc1nc[nH]c1CNc1cc(Cl)c2ncc(C#N)c(Nc3ccc(F)c(...   \n",
      "\n",
      "       Target_ID                                             Target         Y  \n",
      "0         O00141  MTVKTEAAKGTLTYSRMRGMVAILIAFMKQRRMGLNDFIQKIANNS...  11.10000  \n",
      "1         O14920  MSWSPSLTTQTCGAWEMKERLGTGGFGNVIRWHNQETGEQIAIKQC...  11.10000  \n",
      "2         O15111  MERPPGLRPGAGGPWEMRERLGTGGFGNVCLYQHRELDLKIAIKSC...  11.10000  \n",
      "3         P00533  MRPSGTAGAALLALLAALCPASRALEEKKVCQGTSNKLTQLGTFED...  11.10000  \n",
      "4         P04626  MELAALCRWGLLLALLPPGAASTQVCTGTDMKLRLPASPETHLDML...  11.10000  \n",
      "...          ...                                                ...       ...  \n",
      "117652    Q13554  MATTVTCTRFTDEYQLYEDIGKGAFSVVRRCVKLCTGHEYAAKIIN...  10.49794  \n",
      "117653    Q13555  MATTATCTRFTDDYQLFEELGKGAFSVVRRCVKKTSTQEYAAKIIN...  10.49794  \n",
      "117654    Q13557  MASTTTCTRFTDEYQLFEELGKGAFSVVRRCMKIPTGQEYAAKIIN...  10.49794  \n",
      "117655    Q16539  MSQERPTFYRQELNKTIWEVPERYQNLSPVGSGAYGSVCAAFDTKT...  10.49794  \n",
      "117656    Q9UQM7  MATITCTRFTEEYQLFEELGKGAFSVVRRCVKVLAGQEYAAKIINT...  10.49794  \n",
      "\n",
      "[117657 rows x 5 columns]\n"
     ]
    }
   ],
   "source": [
    "data = DTI(name = 'KIBA')\n",
    "df = data.get_data()\n",
    "df.to_csv('KIBA.csv', index=False)\n",
    "print(df)"
   ]
  },
  {
   "cell_type": "code",
   "execution_count": 4,
   "metadata": {},
   "outputs": [
    {
     "name": "stderr",
     "output_type": "stream",
     "text": [
      "Downloading...\n",
      "100%|██████████| 21.4M/21.4M [00:15<00:00, 1.42MiB/s]\n",
      "Loading...\n",
      "Done!\n"
     ]
    },
    {
     "name": "stdout",
     "output_type": "stream",
     "text": [
      "        Drug_ID                                           Drug Target_ID  \\\n",
      "0      11314340  Cc1[nH]nc2ccc(-c3cncc(OCC(N)Cc4ccccc4)c3)cc12      AAK1   \n",
      "1      11314340  Cc1[nH]nc2ccc(-c3cncc(OCC(N)Cc4ccccc4)c3)cc12     ABL1p   \n",
      "2      11314340  Cc1[nH]nc2ccc(-c3cncc(OCC(N)Cc4ccccc4)c3)cc12      ABL2   \n",
      "3      11314340  Cc1[nH]nc2ccc(-c3cncc(OCC(N)Cc4ccccc4)c3)cc12     ACVR1   \n",
      "4      11314340  Cc1[nH]nc2ccc(-c3cncc(OCC(N)Cc4ccccc4)c3)cc12    ACVR1B   \n",
      "...         ...                                            ...       ...   \n",
      "25767    151194         Clc1ccc(Nc2nnc(Cc3ccncc3)c3ccccc23)cc1       YES   \n",
      "25768    151194         Clc1ccc(Nc2nnc(Cc3ccncc3)c3ccccc23)cc1      YSK1   \n",
      "25769    151194         Clc1ccc(Nc2nnc(Cc3ccncc3)c3ccccc23)cc1      YSK4   \n",
      "25770    151194         Clc1ccc(Nc2nnc(Cc3ccncc3)c3ccccc23)cc1       ZAK   \n",
      "25771    151194         Clc1ccc(Nc2nnc(Cc3ccncc3)c3ccccc23)cc1     ZAP70   \n",
      "\n",
      "                                                  Target        Y  \n",
      "0      MKKFFDSRREQGGSGLGSGSSGGGGSTSGLGSGYIGRVFGIGRQQV...     43.0  \n",
      "1      PFWKILNPLLERGTYYYFMGQQPGKVLGDQRRPSLPALHFIKGAGK...  10000.0  \n",
      "2      MVLGTVLLPPNSYGRDQDTSLCCLCTEASESALPDLTDHFASCVED...  10000.0  \n",
      "3      MVDGVMILPVLIMIALPSPSMEDEKPKVNPKLYMCVCEGLSCGNED...  10000.0  \n",
      "4      MAESAGASSFFPLVVLLLAGSGGSGPRGVQALLCACTSCLQANYTC...  10000.0  \n",
      "...                                                  ...      ...  \n",
      "25767  MGCIKSKENKSPAIKYRPENTPEPVSTSVSHYGAEPTTVSPCPSSS...  10000.0  \n",
      "25768  MAHLRGFANQHSRVDPEELFTKLDRIGKGSFGEVYKGIDNHTKEVV...  10000.0  \n",
      "25769  MSSMPKPERHAESLLDICHDTNSSPTDLMTVTKNQNIILQSISRSE...   1900.0  \n",
      "25770  MSSLGASFVQIKFDDLQFFENCGGGSFGSVYRAKWISQDKEVAVKK...   4400.0  \n",
      "25771  MPDPAAHLPFFYGSISRAEAEEHLKLAGMADGLFLLRQCLRSLGGY...  10000.0  \n",
      "\n",
      "[25772 rows x 5 columns]\n"
     ]
    }
   ],
   "source": [
    "data = DTI(name = 'DAVIS')\n",
    "df = data.get_data()\n",
    "df.to_csv('DAVIS.csv', index=False)\n",
    "print(df)"
   ]
  },
  {
   "cell_type": "code",
   "execution_count": 6,
   "metadata": {},
   "outputs": [
    {
     "name": "stderr",
     "output_type": "stream",
     "text": [
      "Found local copy...\n",
      "Loading...\n",
      "Done!\n"
     ]
    },
    {
     "name": "stdout",
     "output_type": "stream",
     "text": [
      "          Drug_ID                                               Drug  \\\n",
      "0        444607.0          Cc1ccc(CNS(=O)(=O)c2ccc(S(N)(=O)=O)s2)cc1   \n",
      "1          4316.0         COc1ccc(CNS(=O)(=O)c2ccc(S(N)(=O)=O)s2)cc1   \n",
      "2          4293.0              NS(=O)(=O)c1ccc(S(=O)(=O)NCc2cccs2)s1   \n",
      "3          1611.0       NS(=O)(=O)c1cc2c(s1)S(=O)(=O)N(Cc1cccs1)CC2O   \n",
      "4          1612.0     COc1ccc(N2CC(O)c3cc(S(N)(=O)=O)sc3S2(=O)=O)cc1   \n",
      "...           ...                                                ...   \n",
      "52269  53358942.0  COc1cc(C(=O)O)ccc1NC(=O)[C@@H]1N[C@@H](CC(C)(C...   \n",
      "52270  53476877.0  CC(C)(C)C[C@@H]1N[C@@H](C(=O)N[C@H]2CC[C@H](O)...   \n",
      "52271  58573469.0  CC(C)[C@@H](CS(=O)(=O)C(C)C)N1C(=O)[C@@](C)(CC...   \n",
      "52272    113557.0                        CCCCCCCOC1OC(CO)C(O)C(O)C1O   \n",
      "52273    113557.0                        CCCCCCCOC1OC(CO)C(O)C(O)C1O   \n",
      "\n",
      "      Target_ID                                             Target       Y  \n",
      "0        P00918  MSHHWGYGKHNGPEHWHKDFPIAKGERQSPVDIDTHTAKYDPSLKP...   0.460  \n",
      "1        P00918  MSHHWGYGKHNGPEHWHKDFPIAKGERQSPVDIDTHTAKYDPSLKP...   0.490  \n",
      "2        P00918  MSHHWGYGKHNGPEHWHKDFPIAKGERQSPVDIDTHTAKYDPSLKP...   0.830  \n",
      "3        P00918  MSHHWGYGKHNGPEHWHKDFPIAKGERQSPVDIDTHTAKYDPSLKP...   0.200  \n",
      "4        P00918  MSHHWGYGKHNGPEHWHKDFPIAKGERQSPVDIDTHTAKYDPSLKP...   0.160  \n",
      "...         ...                                                ...     ...  \n",
      "52269       NaN  MCNTNMSVPTDGAVTTSQIPASEQETLVRPKPLLLKLLKSVGAQKD...   0.150  \n",
      "52270       NaN  MCNTNMSVPTDGAVTTSQIPASEQETLVRPKPLLLKLLKSVGAQKD...   2.700  \n",
      "52271       NaN  MCNTNMSVPTDGAVTTSQIPASEQETLVRPKPLLLKLLKSVGAQKD...   0.045  \n",
      "52272    P08191  MKRVITLFAVLLMGWSVNAWSFACKTANGTAIPIGGGSANVYVNLA...  17.000  \n",
      "52273    P08191  MKRVITLFAVLLMGWSVNAWSFACKTANGTAIPIGGGSANVYVNLA...  19.000  \n",
      "\n",
      "[52274 rows x 5 columns]\n"
     ]
    }
   ],
   "source": [
    "data = DTI(name = 'BindingDB_Kd')\n",
    "df = data.get_data()\n",
    "df.to_csv('BindingDB_Kd.csv', index=False)\n",
    "print(df)"
   ]
  }
 ],
 "metadata": {
  "kernelspec": {
   "display_name": "Python 3",
   "language": "python",
   "name": "python3"
  },
  "language_info": {
   "codemirror_mode": {
    "name": "ipython",
    "version": 3
   },
   "file_extension": ".py",
   "mimetype": "text/x-python",
   "name": "python",
   "nbconvert_exporter": "python",
   "pygments_lexer": "ipython3",
   "version": "3.10.12"
  }
 },
 "nbformat": 4,
 "nbformat_minor": 2
}
