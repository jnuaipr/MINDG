{
 "cells": [
  {
   "cell_type": "code",
   "execution_count": 3,
   "metadata": {},
   "outputs": [],
   "source": [
    "from tdc.multi_pred import DTI\n",
    "import pandas as pd"
   ]
  },
  {
   "cell_type": "code",
   "execution_count": 7,
   "metadata": {},
   "outputs": [
    {
     "name": "stderr",
     "output_type": "stream",
     "text": [
      "Found local copy...\n",
      "Loading...\n",
      "Done!\n",
      "To log space...\n"
     ]
    }
   ],
   "source": [
    "data = DTI(name = 'BindingDB_Kd')\n",
    "data.convert_to_log(form = 'binding')\n",
    "split = data.get_split(method = 'random', seed = 42, frac = [0.7, 0.1, 0.2])\n",
    "train_df = split['train']\n",
    "valid_df = split['valid']\n",
    "test_df = split['test']\n",
    "train_df = train_df.dropna() # drop NaN rows\n",
    "valid_df = valid_df.dropna() # drop NaN rows\n",
    "test_df = test_df.dropna() # drop NaN rows\n",
    "train_df.to_csv('split/BindingDB_Kd_train.csv', index=False)\n",
    "valid_df.to_csv('split/BindingDB_Kd_valid.csv', index=False)\n",
    "test_df.to_csv('split/BindingDB_Kd_test.csv', index=False)"
   ]
  },
  {
   "cell_type": "code",
   "execution_count": 6,
   "metadata": {},
   "outputs": [
    {
     "name": "stderr",
     "output_type": "stream",
     "text": [
      "Downloading...\n",
      "100%|██████████| 21.4M/21.4M [00:16<00:00, 1.29MiB/s]\n",
      "Loading...\n",
      "Done!\n",
      "To log space...\n"
     ]
    }
   ],
   "source": [
    "dataset = 'DAVIS'\n",
    "data = DTI(name = dataset)\n",
    "data.convert_to_log(form = 'binding')\n",
    "split = data.get_split(method = 'random', seed = 42, frac = [0.7, 0.1, 0.2])\n",
    "train_df = split['train']\n",
    "valid_df = split['valid']\n",
    "test_df = split['test']\n",
    "train_df.to_csv(f'split/{dataset}_train.csv', index=False)\n",
    "valid_df.to_csv(f'split/{dataset}_valid.csv', index=False)\n",
    "test_df.to_csv(f'split/{dataset}_test.csv', index=False)"
   ]
  }
 ],
 "metadata": {
  "kernelspec": {
   "display_name": "Python 3",
   "language": "python",
   "name": "python3"
  },
  "language_info": {
   "codemirror_mode": {
    "name": "ipython",
    "version": 3
   },
   "file_extension": ".py",
   "mimetype": "text/x-python",
   "name": "python",
   "nbconvert_exporter": "python",
   "pygments_lexer": "ipython3",
   "version": "3.10.12"
  }
 },
 "nbformat": 4,
 "nbformat_minor": 2
}
