{
 "cells": [
  {
   "cell_type": "code",
   "execution_count": 1,
   "metadata": {},
   "outputs": [
    {
     "name": "stdout",
     "output_type": "stream",
     "text": [
      "14.039999999999992\n",
      "0.0028512084304522568\n"
     ]
    }
   ],
   "source": [
    "# DAVIS\n",
    "from scipy.stats import friedmanchisquare\n",
    "Node2vec = [0.768,0.754,0.734,0.754,0.795]\n",
    "DeepDTA = [0.850,0.859,0.742,0.762,0.861]\n",
    "DeepConvDTI = [0.889,0.882,0.748,0.788,0.875]\n",
    "DeepCDA = [0.909,0.900,0.821,0.780,0.913]\n",
    "TripletMultiDTI = [0.964,0.963,0.863,0.790,0.945]\n",
    "GCN = [0.901,0.896,0.751,0.775,0.904]\n",
    "GAT = [0.914,0.904,0.755,0.784,0.923]\n",
    "MINDG = [0.993,0.992,0.896,0.812,0.998]\n",
    "# res = friedmanchisquare(Node2vec, DeepDTA, DeepConvDTI, DeepCDA,TripletMultiDTI, GCN, GAT, MINDG)\n",
    "res = friedmanchisquare(DeepCDA,TripletMultiDTI, GAT, MINDG)\n",
    "print(res.statistic)\n",
    "print(res.pvalue)\n",
    "# pvalue < α = 0.05 \\alpha=0.05α=0.05, 故拒绝H0假设， 换句话说，多个模型的测量结果之间有显著差异。\n"
   ]
  },
  {
   "cell_type": "code",
   "execution_count": 2,
   "metadata": {},
   "outputs": [
    {
     "name": "stdout",
     "output_type": "stream",
     "text": [
      "10.920000000000002\n",
      "0.012166425367148365\n"
     ]
    }
   ],
   "source": [
    "# BindingDB\n",
    "from scipy.stats import friedmanchisquare\n",
    "Node2vec = [0.772,0.762,0.721,0.821,0.826]\n",
    "DeepDTA = [0.875,0.874,0.772,0.784,0.843]\n",
    "DeepConvDTI = [0.886,0.881,0.783,0.776,0.835]\n",
    "DeepCDA = [0.901,0.894,0.811,0.872,0.840]\n",
    "TripletMultiDTI = [0.940,0.931,0.840,0.917,0.863]\n",
    "GCN = [0.913,0.905,0.751,0.869,0.843]\n",
    "GAT = [0.923,0.913,0.755,0.887,0.851]\n",
    "MINDG = [0.971,0.951,0.857,0.923,0.842]\n",
    "# res = friedmanchisquare(Node2vec, DeepDTA, DeepConvDTI, DeepCDA,TripletMultiDTI, GCN, GAT, MINDG)\n",
    "res = friedmanchisquare(DeepCDA,TripletMultiDTI, GAT, MINDG)\n",
    "print(res.statistic)\n",
    "print(res.pvalue)\n",
    "# pvalue < α = 0.05 \\alpha=0.05α=0.05, 故拒绝H0假设， 换句话说，多个模型的测量结果之间有显著差异。"
   ]
  }
 ],
 "metadata": {
  "kernelspec": {
   "display_name": "Python 3",
   "language": "python",
   "name": "python3"
  },
  "language_info": {
   "codemirror_mode": {
    "name": "ipython",
    "version": 3
   },
   "file_extension": ".py",
   "mimetype": "text/x-python",
   "name": "python",
   "nbconvert_exporter": "python",
   "pygments_lexer": "ipython3",
   "version": "3.10.12"
  }
 },
 "nbformat": 4,
 "nbformat_minor": 2
}
